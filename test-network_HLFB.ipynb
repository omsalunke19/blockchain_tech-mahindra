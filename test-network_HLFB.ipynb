{
  "nbformat": 4,
  "nbformat_minor": 0,
  "metadata": {
    "colab": {
      "provenance": [],
      "authorship_tag": "ABX9TyN12Oc1a1mC4Upp6j+HRKQM",
      "include_colab_link": true
    },
    "kernelspec": {
      "name": "python3",
      "display_name": "Python 3"
    },
    "language_info": {
      "name": "python"
    }
  },
  "cells": [
    {
      "cell_type": "markdown",
      "metadata": {
        "id": "view-in-github",
        "colab_type": "text"
      },
      "source": [
        "<a href=\"https://colab.research.google.com/github/omsalunke19/blockchain_tech-mahindra/blob/main/test-network_HLFB.ipynb\" target=\"_parent\"><img src=\"https://colab.research.google.com/assets/colab-badge.svg\" alt=\"Open In Colab\"/></a>"
      ]
    },
    {
      "cell_type": "markdown",
      "source": [
        "# **Hyperledger Fabric** \n"
      ],
      "metadata": {
        "id": "Rqb3-TbZISM2"
      }
    },
    {
      "cell_type": "markdown",
      "source": [
        "To bring up the network, we need to use the following command"
      ],
      "metadata": {
        "id": "TuMgzWCnIdP_"
      }
    },
    {
      "cell_type": "code",
      "source": [
        "./network.sh up"
      ],
      "metadata": {
        "id": "bRfg3jUlIRTu"
      },
      "execution_count": null,
      "outputs": []
    },
    {
      "cell_type": "code",
      "source": [
        "Creating network \"fabric_test\" with the default driver\n",
        "Creating volume \"net_orderer.example.com\" with default driver\n",
        "Creating volume \"net_peer0.org1.example.com\" with default driver\n",
        "Creating volume \"net_peer0.org2.example.com\" with default driver\n",
        "Creating peer0.org2.example.com ... done\n",
        "Creating orderer.example.com    ... done\n",
        "Creating peer0.org1.example.com ... done\n",
        "Creating cli                    ... done\n",
        "CONTAINER ID   IMAGE                               COMMAND             CREATED         STATUS                  PORTS                                            NAMES\n",
        "1667543b5634   hyperledger/fabric-tools:latest     \"/bin/bash\"         1 second ago    Up Less than a second                                                    cli\n",
        "b6b117c81c7f   hyperledger/fabric-peer:latest      \"peer node start\"   2 seconds ago   Up 1 second             0.0.0.0:7051->7051/tcp                           peer0.org1.example.com\n",
        "703ead770e05   hyperledger/fabric-orderer:latest   \"orderer\"           2 seconds ago   Up Less than a second   0.0.0.0:7050->7050/tcp, 0.0.0.0:7053->7053/tcp   orderer.example.com\n",
        "718d43f5f312   hyperledger/fabric-peer:latest      \"peer node start\"   2 seconds ago   Up 1 second             7051/tcp, 0.0.0.0:9051->9051/tcp                 peer0.org2.example.com"
      ],
      "metadata": {
        "id": "Qnuq_NSIIyIb"
      },
      "execution_count": null,
      "outputs": []
    },
    {
      "cell_type": "markdown",
      "source": [
        " Creates identities for orderer, peer, organizations."
      ],
      "metadata": {
        "id": "ixaY8RsfScYW"
      }
    },
    {
      "cell_type": "code",
      "source": [
        "Creating Org1 Identities\n",
        "\n",
        "+ cryptogen generate --config=./organizations/cryptogen/crypto-config-org1.yaml --output=organizations\n",
        "org1.example.com\n",
        "+ res=0"
      ],
      "metadata": {
        "id": "IUc7km5KSg2E"
      },
      "execution_count": null,
      "outputs": []
    },
    {
      "cell_type": "code",
      "source": [
        "Creating Org2 Identities\n",
        "\n",
        "+ cryptogen generate --config=./organizations/cryptogen/crypto-config-org2.yaml --output=organizations\n",
        "org2.example.com\n",
        "+ res=0"
      ],
      "metadata": {
        "id": "jRSIJYzFStdd"
      },
      "execution_count": null,
      "outputs": []
    },
    {
      "cell_type": "code",
      "source": [
        "Creating Orderer Org Identities\n",
        "\n",
        "+ cryptogen generate --config=./organizations/cryptogen/crypto-config-orderer.yaml --output=organizations\n",
        "+ res=0"
      ],
      "metadata": {
        "id": "VsfENYi5TD8b"
      },
      "execution_count": null,
      "outputs": []
    },
    {
      "cell_type": "markdown",
      "source": [
        "Creating 3 volumes i.e orderer, peer for org1 and then peer for org2."
      ],
      "metadata": {
        "id": "WoG5p_DRoNqg"
      }
    },
    {
      "cell_type": "code",
      "source": [
        "Creating volume \"compose_orderer.example.com\" with default driver\n",
        "\n",
        "Creating volume \"compose_peer0.org1.example.com\" with default driver\n",
        "\n",
        "Creating volume \"compose_peer0.org2.example.com\" with default driver\n",
        "\n"
      ],
      "metadata": {
        "id": "9OU32OC3UTud"
      },
      "execution_count": null,
      "outputs": []
    },
    {
      "cell_type": "markdown",
      "source": [
        "After the test network is deployed,  Run the following command to list all of Docker containers that are running on your machine. We should see the three nodes that were created by the network.sh script:"
      ],
      "metadata": {
        "id": "aZtgQhR3Uyny"
      }
    },
    {
      "cell_type": "code",
      "source": [
        "docker ps -a"
      ],
      "metadata": {
        "id": "evLl61eQUhpQ"
      },
      "execution_count": null,
      "outputs": []
    },
    {
      "cell_type": "code",
      "source": [
        "CONTAINER ID   IMAGE                               COMMAND             CREATED          STATUS          PORTS                                                                                                                             NAMES\n",
        "\n",
        "50d079ec3300   hyperledger/fabric-tools:latest     \"/bin/bash\"         12 seconds ago   Up 7 seconds                                                                                                                                      cli\n",
        "\n",
        "55516e69fb7b   hyperledger/fabric-peer:latest      \"peer node start\"   21 seconds ago   Up 12 seconds   0.0.0.0:7051->7051/tcp, :::7051->7051/tcp, 0.0.0.0:9444->9444/tcp, :::9444->9444/tcp                                              peer0.org1.example.com\n",
        "\n",
        "c84e6903a349   hyperledger/fabric-peer:latest      \"peer node start\"   21 seconds ago   Up 14 seconds   0.0.0.0:9051->9051/tcp, :::9051->9051/tcp, 7051/tcp, 0.0.0.0:9445->9445/tcp, :::9445->9445/tcp                                    peer0.org2.example.com\n",
        "\n",
        "1d4af918dbe2   hyperledger/fabric-orderer:latest   \"orderer\"           21 seconds ago   Up 12 seconds   0.0.0.0:7050->7050/tcp, :::7050->7050/tcp, 0.0.0.0:7053->7053/tcp, :::7053->7053/tcp, 0.0.0.0:9443->9443/tcp, :::9443->9443/tcp   orderer.example.com\n",
        "\n"
      ],
      "metadata": {
        "id": "EnpUqKWFUipF"
      },
      "execution_count": null,
      "outputs": []
    },
    {
      "cell_type": "markdown",
      "source": [
        "We can use the network.sh script to create a channel between Org1 and Org2 and join their peers to the channel. Run the following command to create a channel with the default name of mychannel:"
      ],
      "metadata": {
        "id": "xK4xBxt2VL03"
      }
    },
    {
      "cell_type": "code",
      "source": [
        "./network.sh createChannel"
      ],
      "metadata": {
        "id": "ebMcVsGCVTTg"
      },
      "execution_count": null,
      "outputs": []
    },
    {
      "cell_type": "code",
      "source": [
        "Generating channel genesis block 'mychannel.block'\n",
        "/home/om/hyperledger_fabric/fabric-samples/test-network/../bin/configtxgen\n",
        "+ configtxgen -profile TwoOrgsApplicationGenesis -outputBlock ./channel-artifacts/mychannel.block -channelID mychannel"
      ],
      "metadata": {
        "id": "glNfgkNmVkg0"
      },
      "execution_count": null,
      "outputs": []
    },
    {
      "cell_type": "markdown",
      "source": [
        "5.\tFor creating channel, we choose the orderer type (etcdraft).\n"
      ],
      "metadata": {
        "id": "r41c-3zuWEst"
      }
    },
    {
      "cell_type": "code",
      "source": [
        "2023-01-11 10:32:42.234 IST 0001 INFO [common.tools.configtxgen] main -> Loading configuration\n",
        "\n",
        "2023-01-11 10:32:42.265 IST 0002 INFO [common.tools.configtxgen.localconfig] completeInitialization -> orderer type: etcdraft\n",
        "\n",
        "2023-01-11 10:32:42.276 IST 0003 INFO [common.tools.configtxgen.localconfig] completeInitialization -> Orderer.EtcdRaft.Options unset, setting to tick_interval:\"500ms\" election_tick:10 heartbeat_tick:1 max_inflight_blocks:5 snapshot_interval_size:16777216 "
      ],
      "metadata": {
        "id": "OLlX-u5mVt-P"
      },
      "execution_count": null,
      "outputs": []
    },
    {
      "cell_type": "markdown",
      "source": [
        "Further steps while creating the channel\n"
      ],
      "metadata": {
        "id": "XBFyfDSDWVdT"
      }
    },
    {
      "cell_type": "code",
      "source": [
        "2023-01-11 10:32:42.276 IST 0004 INFO [common.tools.configtxgen.localconfig] Load -> Loaded configuration: /home/om/hyperledger_fabric/fabric-samples/test-network/configtx/configtx.yaml\n",
        "\n",
        "2023-01-11 10:32:42.314 IST 0005 INFO [common.tools.configtxgen] doOutputBlock -> Generating genesis block\n",
        "\n",
        "2023-01-11 10:32:42.314 IST 0006 INFO [common.tools.configtxgen] doOutputBlock -> Creating application channel genesis block\n",
        "\n",
        "2023-01-11 10:32:42.314 IST 0007 INFO [common.tools.configtxgen] doOutputBlock -> Writing genesis block\n",
        "+ res=0\n"
      ],
      "metadata": {
        "id": "2qYRHIm_WIvy"
      },
      "execution_count": null,
      "outputs": []
    },
    {
      "cell_type": "markdown",
      "source": [
        "Creating channel mychannel\n",
        "Using organization 1"
      ],
      "metadata": {
        "id": "40pK_A2hWrBK"
      }
    },
    {
      "cell_type": "code",
      "source": [
        "+ osnadmin channel join --channelID mychannel --config-block ./channel-artifacts/mychannel.block -o localhost:7053 --ca-file /home/om/hyperledger_fabric/fabric-samples/test-network/organizations/ordererOrganizations/example.com/tlsca/tlsca.example.com-cert.pem --client-cert /home/om/hyperledger_fabric/fabric-samples/test-network/organizations/ordererOrganizations/example.com/orderers/orderer.example.com/tls/server.crt --client-key /home/om/hyperledger_fabric/fabric-samples/test-network/organizations/ordererOrganizations/example.com/orderers/orderer.example.com/tls/server.key\n",
        "+ res=0\n",
        "Status: 201\n",
        "{\n",
        "\t\"name\": \"mychannel\",\n",
        "\t\"url\": \"/participation/v1/channels/mychannel\",\n",
        "\t\"consensusRelation\": \"consenter\",\n",
        "\t\"status\": \"active\",\n",
        "\t\"height\": 1\n",
        "}\n",
        "Channel 'mychannel' created"
      ],
      "metadata": {
        "id": "chZh-uS5WrnR"
      },
      "execution_count": null,
      "outputs": []
    },
    {
      "cell_type": "markdown",
      "source": [
        "Now we join the peer to the channel"
      ],
      "metadata": {
        "id": "LD2KBZkQW7Iz"
      }
    },
    {
      "cell_type": "code",
      "source": [
        "Joining org2 peer to the channel...\n",
        "Using organization 1\n",
        "\n",
        "+ peer channel join -b ./channel-artifacts/mychannel.block\n",
        "+ res0\n",
        "\n",
        "2023-01-11 10:32:49.053 IST 0001 INFO [channelCmd] InitCmdFactory -> Endorser and orderer connections initialized\n",
        "2023-01-11 10:32:49.096 IST 0002 INFO [channelCmd] executeJoin -> Successfully submitted proposal to join channel\n",
        "\n",
        "Joining org2 peer to the channel...\n",
        "Using organization 2\n",
        "\n",
        "+ peer channel join -b ./channel-artifacts/mychannel.block\n",
        "+ res=0\n",
        "\n",
        "2023-01-11 10:32:52.490 IST 0001 INFO [channelCmd] InitCmdFactory -> Endorser and orderer connections initialized\n",
        "2023-01-11 10:32:52.538 IST 0002 INFO [channelCmd] executeJoin -> Successfully submitted proposal to join channel\n"
      ],
      "metadata": {
        "id": "fgfvq42tYlex"
      },
      "execution_count": null,
      "outputs": []
    },
    {
      "cell_type": "markdown",
      "source": [
        "Now we set the anchor peer for the organization and fetching channel config"
      ],
      "metadata": {
        "id": "PGpg6iOZZQHU"
      }
    },
    {
      "cell_type": "code",
      "source": [
        "Setting anchor peer for org1...\n",
        "Using organization 1\n",
        "Fetching channel config for channel mychannel\n",
        "Using organization 1\n",
        "\n",
        "+ peer channel fetch config config_block.pb -o orderer.example.com:7050 --ordererTLSHostnameOverride orderer.example.com -c mychannel --tls --cafile /opt/gopath/src/github.com/hyperledger/fabric/peer/organizations/ordererOrganizations/example.com/tlsca/tlsca.example.com-cert.pem\n",
        "Fetching the most recent configuration block for the channel\n",
        "\n",
        "2023-01-11 05:02:53.267 UTC 0001 INFO [channelCmd] InitCmdFactory -> Endorser and orderer connections initialized\n",
        "2023-01-11 05:02:53.272 UTC 0002 INFO [cli.common] readBlock -> Received block: 0\n",
        "2023-01-11 05:02:53.272 UTC 0003 INFO [channelCmd] fetch -> Retrieving last config block: 0\n",
        "2023-01-11 05:02:53.276 UTC 0004 INFO [cli.common] readBlock -> Received block: 0\n",
        "Decoding config block to JSON and isolating config to Org1MSPconfig.json\n",
        "+ configtxlator proto_decode --input config_block.pb --type common.Block --output config_block.json\n",
        "+ jq '.data.data[0].payload.data.config' config_block.json\n",
        "+ jq '.channel_group.groups.Application.groups.Org1MSP.values += {\"AnchorPeers\":{\"mod_policy\": \"Admins\",\"value\":{\"anchor_peers\": [{\"host\": \"peer0.org1.example.com\",\"port\": 7051}]},\"version\": \"0\"}}' Org1MSPconfig.json\n",
        "\n",
        "Generating anchor peer update transaction for Org1 on channel mychannel\n",
        "+ configtxlator proto_encode --input Org1MSPconfig.json --type common.Config --output original_config.pb\n",
        "+ configtxlator proto_encode --input Org1MSPmodified_config.json --type common.Config --output modified_config.pb\n",
        "+ configtxlator compute_update --channel_id mychannel --original original_config.pb --updated modified_config.pb --output config_update.pb\n",
        "+ configtxlator proto_decode --input config_update.pb --type common.ConfigUpdate --output config_update.json\n",
        "+ jq .\n",
        "\n"
      ],
      "metadata": {
        "id": "u4JfmWxFZcbh"
      },
      "execution_count": null,
      "outputs": []
    },
    {
      "cell_type": "markdown",
      "source": [
        "Anchor peer set for org 'Org1MSP' on channel 'mychannel'"
      ],
      "metadata": {
        "id": "pC9iZ2mJcjdH"
      }
    },
    {
      "cell_type": "code",
      "source": [
        "Setting anchor peer for org2...\n",
        "\n",
        "Using organization 2\n",
        "Fetching channel config for channel mychannel\n",
        "Using organization 2\n",
        "Fetching the most recent configuration block for the channel\n",
        "\n",
        "+ peer channel fetch config config_block.pb -o orderer.example.com:7050 --ordererTLSHostnameOverride orderer.example.com -c mychannel --tls --cafile /opt/gopath/src/github.com/hyperledger/fabric/peer/organizations/ordererOrganizations/example.com/tlsca/tlsca.example.com-cert.pem\n",
        "\n",
        "2023-01-11 05:02:56.579 UTC 0001 INFO [channelCmd] InitCmdFactory -> Endorser and orderer connections initialized\n",
        "2023-01-11 05:02:56.582 UTC 0002 INFO [cli.common] readBlock -> Received block: 1\n",
        "2023-01-11 05:02:56.582 UTC 0003 INFO [channelCmd] fetch -> Retrieving last config block: 1\n",
        "2023-01-11 05:02:56.583 UTC 0004 INFO [cli.common] readBlock -> Received block: 1\n",
        "+ configtxlator proto_decode --input config_block.pb --type common.Block --output config_block.json\n",
        "\n",
        "Decoding config block to JSON and isolating config to Org2MSPconfig.json\n",
        "\n",
        "+ jq '.data.data[0].payload.data.config' config_block.json\n",
        "+ jq '.channel_group.groups.Application.groups.Org2MSP.values += {\"AnchorPeers\":{\"mod_policy\": \"Admins\",\"value\":{\"anchor_peers\": [{\"host\": \"peer0.org2.example.com\",\"port\": 9051}]},\"version\": \"0\"}}' Org2MSPconfig.json\n",
        "\n",
        "Generating anchor peer update transaction for Org2 on channel mychannel\n",
        "\n",
        "+ configtxlator proto_encode --input Org2MSPconfig.json --type common.Config --output original_config.pb\n",
        "+ configtxlator proto_encode --input Org2MSPmodified_config.json --type common.Config --output modified_config.pb\n",
        "+ configtxlator compute_update --channel_id mychannel --original original_config.pb --updated modified_config.pb --output config_update.pb\n",
        "+ configtxlator proto_decode --input config_update.pb --type common.ConfigUpdate --output config_update.json\n",
        "+ jq .\n",
        "\n"
      ],
      "metadata": {
        "id": "D4lm0_Zhcvtk"
      },
      "execution_count": null,
      "outputs": []
    },
    {
      "cell_type": "markdown",
      "source": [
        "Anchor peer set for org 'Org1MSP' on channel 'mychannel'"
      ],
      "metadata": {
        "id": "KvTkxW-bc6tq"
      }
    },
    {
      "cell_type": "markdown",
      "source": [
        "Now we create another channel by the same process mentioned above"
      ],
      "metadata": {
        "id": "DoGVOZJydQJP"
      }
    },
    {
      "cell_type": "code",
      "source": [
        "./network.sh createChannel -c channel2"
      ],
      "metadata": {
        "id": "fk6fepLudUwK"
      },
      "execution_count": null,
      "outputs": []
    },
    {
      "cell_type": "markdown",
      "source": [
        "Now we need to start a chaincode on channel, for that we deploy the chainchode"
      ],
      "metadata": {
        "id": "wOuVjqNNdhJZ"
      }
    },
    {
      "cell_type": "code",
      "source": [
        "./network.sh deployCC -ccn basic -ccp ../asset-transfer-basic/chaincode-go -ccl go"
      ],
      "metadata": {
        "id": "fV82u_z-dlWK"
      },
      "execution_count": null,
      "outputs": []
    },
    {
      "cell_type": "code",
      "source": [
        "Using docker and docker-compose\n",
        "deploying chaincode on channel 'mychannel'\n",
        "executing with the following\n",
        "\n",
        "- CHANNEL_NAME: mychannel\n",
        "- CC_NAME: basic\n",
        "- CC_SRC_PATH: ../asset-transfer-basic/chaincode-go\n",
        "- CC_SRC_LANGUAGE: go\n",
        "- CC_VERSION: 1.0\n",
        "- CC_SEQUENCE: 1\n",
        "- CC_END_POLICY: NA\n",
        "- CC_COLL_CONFIG: NA\n",
        "- CC_INIT_FCN: NA\n",
        "- DELAY: 3\n",
        "- MAX_RETRY: 5\n",
        "- VERBOSE: false\n"
      ],
      "metadata": {
        "id": "syssIPUmdtlb"
      },
      "execution_count": null,
      "outputs": []
    },
    {
      "cell_type": "markdown",
      "source": [
        "Now we initiate vendoring go dependencies i.e including third-party software source code directly in the product's codebase."
      ],
      "metadata": {
        "id": "Q2-XaNFTeEDR"
      }
    },
    {
      "cell_type": "code",
      "source": [
        "Vendoring Go dependencies at ../asset-transfer-basic/chaincode-go\n",
        "\n",
        "~/hyperledger_fabric/fabric-samples/asset-transfer-basic/chaincode-go ~/hyperledger_fabric/fabric-samples/test-network\n",
        "~/hyperledger_fabric/fabric-samples/test-network\n",
        "\n",
        "Finished vendoring Go dependencies"
      ],
      "metadata": {
        "id": "P8JfXjfUeDFQ"
      },
      "execution_count": null,
      "outputs": []
    },
    {
      "cell_type": "markdown",
      "source": [
        "We deploy chaincode on channel, but before deploying we need to pack the chaincode "
      ],
      "metadata": {
        "id": "rMd5RKMZelLY"
      }
    },
    {
      "cell_type": "code",
      "source": [
        "+ peer lifecycle chaincode package basic.tar.gz --path ../asset-transfer-basic/chaincode-go --lang golang --label basic_1.0\n",
        "+ res=0\n",
        "++ peer lifecycle chaincode calculatepackageid basic.tar.gz\n",
        "+ PACKAGE_ID=basic_1.0:d29562b85321d821cc02fddff4366e54b9bdbfa5d51647b5613141dd4d947b9e\n",
        "\n",
        "Chaincode is packaged"
      ],
      "metadata": {
        "id": "YHBmSXWUena6"
      },
      "execution_count": null,
      "outputs": []
    },
    {
      "cell_type": "markdown",
      "source": [
        "Installing chaincode on peers of org1 and org2"
      ],
      "metadata": {
        "id": "UNQ_lSVGe7bJ"
      }
    },
    {
      "cell_type": "code",
      "source": [
        "Installing chaincode on peer0.org1...\n",
        "Using organization 1\n",
        "\n",
        "+ peer lifecycle chaincode queryinstalled --output json\n",
        "+ jq -r 'try (.installed_chaincodes[].package_id)'\n",
        "+ grep '^basic_1.0:d29562b85321d821cc02fddff4366e54b9bdbfa5d51647b5613141dd4d947b9e$'\n",
        "+ test 1 -ne 0\n",
        "+ peer lifecycle chaincode install basic.tar.gz\n",
        "+ res=0\n",
        "\n",
        "2023-01-11 10:36:04.880 IST 0001 INFO [cli.lifecycle.chaincode] submitInstallProposal -> Installed remotely: response:<status:200 payload:\"\\nJbasic_1.0:d29562b85321d821cc02fddff4366e54b9bdbfa5d51647b5613141dd4d947b9e\\022\\tbasic_1.0\" > \n",
        "2023-01-11 10:36:04.881 IST 0002 INFO [cli.lifecycle.chaincode] submitInstallProposal -> Chaincode code package identifier: basic_1.0:d29562b85321d821cc02fddff4366e54b9bdbfa5d51647b5613141dd4d947b9e\n",
        "\n",
        "Chaincode is installed on peer0.org1\n",
        "\n"
      ],
      "metadata": {
        "id": "D88bPMgyfCAN"
      },
      "execution_count": null,
      "outputs": []
    },
    {
      "cell_type": "code",
      "source": [
        "Install chaincode on peer0.org2...\n",
        "Using organization 2\n",
        "\n",
        "+ peer lifecycle chaincode queryinstalled --output json\n",
        "+ jq -r 'try (.installed_chaincodes[].package_id)'\n",
        "+ grep '^basic_1.0:d29562b85321d821cc02fddff4366e54b9bdbfa5d51647b5613141dd4d947b9e$'\n",
        "+ test 1 -ne 0\n",
        "+ peer lifecycle chaincode install basic.tar.gz\n",
        "+ res=0\n",
        "\n",
        "2023-01-11 10:37:09.193 IST 0001 INFO [cli.lifecycle.chaincode] submitInstallProposal -> Installed remotely: response:<status:200 payload:\"\\nJbasic_1.0:d29562b85321d821cc02fddff4366e54b9bdbfa5d51647b5613141dd4d947b9e\\022\\tbasic_1.0\" > \n",
        "2023-01-11 10:37:09.194 IST 0002 INFO [cli.lifecycle.chaincode] submitInstallProposal -> Chaincode code package identifier: basic_1.0:d29562b85321d821cc02fddff4366e54b9bdbfa5d51647b5613141dd4d947b9e\n",
        "\n",
        "Chaincode is installed on peer0.org2\n",
        "\n"
      ],
      "metadata": {
        "id": "zV1ra3uvfZaT"
      },
      "execution_count": null,
      "outputs": []
    },
    {
      "cell_type": "markdown",
      "source": [
        "Now we install the query on peer0.org1"
      ],
      "metadata": {
        "id": "M0XgNyKWfv31"
      }
    },
    {
      "cell_type": "code",
      "source": [
        "Query installed successful on peer0.org1 on channel\n",
        "Using organization 1\n",
        "\n",
        "+ peer lifecycle chaincode approveformyorg -o localhost:7050 --ordererTLSHostnameOverride orderer.example.com --tls --cafile /home/om/hyperledger_fabric/fabric-samples/test-network/organizations/ordererOrganizations/example.com/tlsca/tlsca.example.com-cert.pem --channelID mychannel --name basic --version 1.0 --package-id basic_1.0:d29562b85321d821cc02fddff4366e54b9bdbfa5d51647b5613141dd4d947b9e --sequence 1\n",
        "+ res=0\n",
        "\n",
        "2023-01-11 10:37:12.241 IST 0001 INFO [chaincodeCmd] ClientWait -> txid [56c8445b4ac966dbf4ea2269d986e26db855fe9737f5584e8fa6c7d5768c55a2] committed with status (VALID) at localhost:7051\n",
        " \n",
        "Chaincode definition approved on peer0.org1 on channel 'mychannel'\n",
        "\n"
      ],
      "metadata": {
        "id": "GZhMOgkAf3J8"
      },
      "execution_count": null,
      "outputs": []
    },
    {
      "cell_type": "markdown",
      "source": [
        "Now we check the commit readiness"
      ],
      "metadata": {
        "id": "TqjclSfUgNDM"
      }
    },
    {
      "cell_type": "code",
      "source": [
        "Using organization 1\n",
        "Checking the commit readiness of the chaincode definition on peer0.org1 on channel 'mychannel'...\n",
        "Attempting to check the commit readiness of the chaincode definition on peer0.org1, Retry after 3 seconds.\n",
        "\n",
        "+ peer lifecycle chaincode checkcommitreadiness --channelID mychannel --name basic --version 1.0 --sequence 1 --output json\n",
        "+ res=0\n",
        "{\n",
        "\t\"approvals\": {\n",
        "\t\t\"Org1MSP\": true,\n",
        "\t\t\"Org2MSP\": false\n",
        "\t}\n",
        "}\n"
      ],
      "metadata": {
        "id": "FtsHkyzii83z"
      },
      "execution_count": null,
      "outputs": []
    },
    {
      "cell_type": "code",
      "source": [
        "Using organization 2\n",
        "Checking the commit readiness of the chaincode definition on peer0.org2 on channel 'mychannel'...\n",
        "Attempting to check the commit readiness of the chaincode definition on peer0.org2, Retry after 3 seconds.\n",
        "\n",
        "+ peer lifecycle chaincode checkcommitreadiness --channelID mychannel --name basic --version 1.0 --sequence 1 --output json\n",
        "+ res=0\n",
        "\n",
        "{\n",
        "\t\"approvals\": {\n",
        "\t\t\"Org1MSP\": true,\n",
        "\t\t\"Org2MSP\": false\n",
        "\t}\n",
        "}\n",
        "\n"
      ],
      "metadata": {
        "id": "cCXZT6Lzjrb2"
      },
      "execution_count": null,
      "outputs": []
    },
    {
      "cell_type": "markdown",
      "source": [
        "Approving the chaincode definition for peer0.org2 on the channel"
      ],
      "metadata": {
        "id": "8esMB9jMjsQy"
      }
    },
    {
      "cell_type": "code",
      "source": [
        "Checking the commit readiness of the chaincode definition successful on peer0.org2 on channel 'mychannel'\n",
        "Using organization 2\n",
        "\n",
        "+ peer lifecycle chaincode approveformyorg -o localhost:7050 --ordererTLSHostnameOverride orderer.example.com --tls --cafile /home/om/hyperledger_fabric/fabric-samples/test-network/organizations/ordererOrganizations/example.com/tlsca/tlsca.example.com-cert.pem --channelID mychannel --name basic --version 1.0 --package-id basic_1.0:d29562b85321d821cc02fddff4366e54b9bdbfa5d51647b5613141dd4d947b9e --sequence 1\n",
        "+ res=0\n",
        "2023-01-11 10:37:21.306 IST 0001 INFO [chaincodeCmd] ClientWait -> txid [0b76b68597ca086788682aef9e3dbfdd9f9bd096c95a0201a3e3c45f03b9681c] committed with status (VALID) at localhost:9051\n",
        "\n",
        "Chaincode definition approved on peer0.org2 on channel 'mychannel'"
      ],
      "metadata": {
        "id": "kaqnWp2yj5XY"
      },
      "execution_count": null,
      "outputs": []
    },
    {
      "cell_type": "markdown",
      "source": [
        "Now after approving"
      ],
      "metadata": {
        "id": "hTVVzdmbkptf"
      }
    },
    {
      "cell_type": "code",
      "source": [
        "Using organization 1\n",
        "Checking the commit readiness of the chaincode definition on peer0.org1 on channel 'mychannel'...\n",
        "Attempting to check the commit readiness of the chaincode definition on peer0.org1, Retry after 3 seconds.\n",
        "\n",
        "+ peer lifecycle chaincode checkcommitreadiness --channelID mychannel --name basic --version 1.0 --sequence 1 --output json\n",
        "+ res=0\n",
        "\n",
        "{\n",
        "\t\"approvals\": {\n",
        "\t\t\"Org1MSP\": true,\n",
        "\t\t\"Org2MSP\": true\n",
        "\t}\n",
        "}"
      ],
      "metadata": {
        "id": "kh49a8Ntkm5l"
      },
      "execution_count": null,
      "outputs": []
    },
    {
      "cell_type": "code",
      "source": [
        "Using organization 2\n",
        "Checking the commit readiness of the chaincode definition on peer0.org2 on channel 'mychannel'...\n",
        "Attempting to check the commit readiness of the chaincode definition on peer0.org2, Retry after 3 seconds.\n",
        "\n",
        "+ peer lifecycle chaincode checkcommitreadiness --channelID mychannel --name basic --version 1.0 --sequence 1 --output json\n",
        "+ res=0\n",
        "\n",
        "{\n",
        "\t\"approvals\": {\n",
        "\t\t\"Org1MSP\": true,\n",
        "\t\t\"Org2MSP\": true\n",
        "\t}\n",
        "}"
      ],
      "metadata": {
        "id": "cYxsGDKmlVoF"
      },
      "execution_count": null,
      "outputs": []
    },
    {
      "cell_type": "markdown",
      "source": [
        "Checking the commit readiness of the chaincode definition"
      ],
      "metadata": {
        "id": "fD3KEvVYldpa"
      }
    },
    {
      "cell_type": "code",
      "source": [
        "Checking the commit readiness of the chaincode definition successful on peer0.org2 on channel 'mychannel'\n",
        "\n",
        "Using organization 1\n",
        "\n",
        "Using organization 2\n",
        "\n",
        "+ peer lifecycle chaincode commit -o localhost:7050 --ordererTLSHostnameOverride orderer.example.com --tls --cafile /home/om/hyperledger_fabric/fabric-samples/test-network/organizations/ordererOrganizations/example.com/tlsca/tlsca.example.com-cert.pem --channelID mychannel --name basic --peerAddresses localhost:7051 --tlsRootCertFiles /home/om/hyperledger_fabric/fabric-samples/test-network/organizations/peerOrganizations/org1.example.com/tlsca/tlsca.org1.example.com-cert.pem --peerAddresses localhost:9051 --tlsRootCertFiles /home/om/hyperledger_fabric/fabric-samples/test-network/organizations/peerOrganizations/org2.example.com/tlsca/tlsca.org2.example.com-cert.pem --version 1.0 --sequence 1\n",
        "\n",
        "+ res=0\n",
        "\n",
        "2023-01-11 10:37:30.384 IST 0001 INFO [chaincodeCmd] ClientWait -> txid [3239f11180e985e364e95e4ab2ab73c391cc7b3b2e82876517ae3406cca283dc] committed with status (VALID) at localhost:9051\n",
        "\n",
        "2023-01-11 10:37:30.457 IST 0002 INFO [chaincodeCmd] ClientWait -> txid [3239f11180e985e364e95e4ab2ab73c391cc7b3b2e82876517ae3406cca283dc] committed with status (VALID) at localhost:7051\n",
        "\n",
        "Chaincode definition committed on channel 'mychannel'\n",
        "\n"
      ],
      "metadata": {
        "id": "9DPJ7a2-lhnN"
      },
      "execution_count": null,
      "outputs": []
    },
    {
      "cell_type": "markdown",
      "source": [
        "Now we query the chaincode definition"
      ],
      "metadata": {
        "id": "shkvHEK2mCVd"
      }
    },
    {
      "cell_type": "code",
      "source": [
        "Querying chaincode definition on peer0.org2 on channel 'mychannel'...\n",
        "Attempting to Query committed status on peer0.org2, Retry after 3 seconds.\n",
        "\n",
        "+ peer lifecycle chaincode querycommitted --channelID mychannel --name basic\n",
        "+ res=0\n",
        "\n",
        "Committed chaincode definition for chaincode 'basic' on channel 'mychannel':\n",
        "Version: 1.0, Sequence: 1, Endorsement Plugin: escc, Validation Plugin: vscc, Approvals: [Org1MSP: true, Org2MSP: true]\n",
        "\n",
        "Query chaincode definition successful on peer0.org2 on channel 'mychannel'\n",
        "\n"
      ],
      "metadata": {
        "id": "IE5SdaSPl8jP"
      },
      "execution_count": null,
      "outputs": []
    },
    {
      "cell_type": "code",
      "source": [
        "Using organization 2\n",
        "Querying chaincode definition on peer0.org2 on channel 'mychannel'...\n",
        "Attempting to Query committed status on peer0.org2, Retry after 3 seconds.\n",
        "\n",
        "+ peer lifecycle chaincode querycommitted --channelID mychannel --name basic\n",
        "+ res=0\n",
        "\n",
        "Committed chaincode definition for chaincode 'basic' on channel 'mychannel':\n",
        "\n",
        "Version: 1.0, Sequence: 1, Endorsement Plugin: escc, Validation Plugin: vscc, Approvals: [Org1MSP: true, Org2MSP: true]\n",
        "Query chaincode definition successful on peer0.org2 on channel 'mychannel'\n",
        "\n"
      ],
      "metadata": {
        "id": "6dPNGmeRmH1B"
      },
      "execution_count": null,
      "outputs": []
    },
    {
      "cell_type": "markdown",
      "source": [
        "then we use the following the command to set the environment variables of the peer"
      ],
      "metadata": {
        "id": "FfnAhHskmOW6"
      }
    },
    {
      "cell_type": "code",
      "source": [
        "1.\texport CORE_PEER_TLS_ENABLED=true\n",
        "2.\texport CORE_PEER_LOCALMSPID=\"Org1MSP\"\n",
        "3.\texport CORE_PEER_TLS_ROOTCERT_FILE=${PWD}/organizations/peerOrganizations/org1.example.com/peers/peer0.org1.example.com/tls/ca.crt\n",
        "4.\texport CORE_PEER_MSPCONFIGPATH=${PWD}/organizations/peerOrganizations/org1.example.com/users/Admin@org1.example.com/msp\n",
        "5.\texport CORE_PEER_ADDRESS=localhost:7051\n"
      ],
      "metadata": {
        "id": "kRZjhS38mXi-"
      },
      "execution_count": null,
      "outputs": []
    },
    {
      "cell_type": "markdown",
      "source": [
        "We now invoke the InitLedger function of the (Go) chaincode to put an initial list of assets on the ledger"
      ],
      "metadata": {
        "id": "CF87fx_Zmmoa"
      }
    },
    {
      "cell_type": "code",
      "source": [
        "peer chaincode invoke -o localhost:7050 --ordererTLSHostnameOverride orderer.example.com --tls --cafile \"${PWD}/organizations/ordererOrganizations/example.com/orderers/orderer.example.com/msp/tlscacerts/tlsca.example.com-cert.pem\" -C mychannel -n basic --peerAddresses localhost:7051 --tlsRootCertFiles \"${PWD}/organizations/peerOrganizations/org1.example.com/peers/peer0.org1.example.com/tls/ca.crt\" --peerAddresses localhost:9051 --tlsRootCertFiles \"${PWD}/organizations/peerOrganizations/org2.example.com/peers/peer0.org2.example.com/tls/ca.crt\" -c '{\"function\":\"InitLedger\",\"Args\":[]}'"
      ],
      "metadata": {
        "id": "C92WeARAmrv2"
      },
      "execution_count": null,
      "outputs": []
    },
    {
      "cell_type": "markdown",
      "source": [
        "If successful, the output will be"
      ],
      "metadata": {
        "id": "Okjste6fmwFF"
      }
    },
    {
      "cell_type": "code",
      "source": [
        "INFO 001 Chaincode invoke successful. result: status:200"
      ],
      "metadata": {
        "id": "RPgvXhuzmy1X"
      },
      "execution_count": null,
      "outputs": []
    },
    {
      "cell_type": "markdown",
      "source": [
        " the following command to get the list of assets that were added to your channel ledger"
      ],
      "metadata": {
        "id": "D_4M5_dnm2UV"
      }
    },
    {
      "cell_type": "code",
      "source": [
        "peer chaincode query -C mychannel -n basic -c '{\"Args\":[\"GetAllAssets\"]}'"
      ],
      "metadata": {
        "id": "dZgITGyIm4OM"
      },
      "execution_count": null,
      "outputs": []
    },
    {
      "cell_type": "markdown",
      "source": [
        "these were the assests mentioned in \"GetAllAssests\""
      ],
      "metadata": {
        "id": "XoYhzX2Gm73P"
      }
    },
    {
      "cell_type": "code",
      "source": [
        "[\n",
        "  {\"ID\": \"asset1\", \"color\": \"blue\", \"size\": 5, \"owner\": \"Tomoko\", \"appraisedValue\": 300},\n",
        "  {\"ID\": \"asset2\", \"color\": \"red\", \"size\": 5, \"owner\": \"Brad\", \"appraisedValue\": 400},\n",
        "  {\"ID\": \"asset3\", \"color\": \"green\", \"size\": 10, \"owner\": \"Jin Soo\", \"appraisedValue\": 500},\n",
        "  {\"ID\": \"asset4\", \"color\": \"yellow\", \"size\": 10, \"owner\": \"Max\", \"appraisedValue\": 600},\n",
        "  {\"ID\": \"asset5\", \"color\": \"black\", \"size\": 15, \"owner\": \"Adriana\", \"appraisedValue\": 700},\n",
        "  {\"ID\": \"asset6\", \"color\": \"white\", \"size\": 15, \"owner\": \"Michel\", \"appraisedValue\": 800}\n",
        "]"
      ],
      "metadata": {
        "id": "uVYMXBRVm7uP"
      },
      "execution_count": null,
      "outputs": []
    },
    {
      "cell_type": "markdown",
      "source": [
        "Now if we need to change something in the ledger i.e the assets, we'll use"
      ],
      "metadata": {
        "id": "TEwVhjW0nGvH"
      }
    },
    {
      "cell_type": "code",
      "source": [
        "peer chaincode invoke -o localhost:7050 --ordererTLSHostnameOverride orderer.example.com --tls --cafile \"${PWD}/organizations/ordererOrganizations/example.com/orderers/orderer.example.com/msp/tlscacerts/tlsca.example.com-cert.pem\" -C mychannel -n basic --peerAddresses localhost:7051 --tlsRootCertFiles \"${PWD}/organizations/peerOrganizations/org1.example.com/peers/peer0.org1.example.com/tls/ca.crt\" --peerAddresses localhost:9051 --tlsRootCertFiles \"${PWD}/organizations/peerOrganizations/org2.example.com/peers/peer0.org2.example.com/tls/ca.crt\" -c '{\"function\":\"TransferAsset\",\"Args\":[\"asset6\",\"Christopher\"]}'"
      ],
      "metadata": {
        "id": "lEZju5Y3ngAJ"
      },
      "execution_count": null,
      "outputs": []
    },
    {
      "cell_type": "markdown",
      "source": [
        "The result will show that \"asset6\" was transferred to Christopher from Michel"
      ],
      "metadata": {
        "id": "mrf1U6Iyng4a"
      }
    },
    {
      "cell_type": "code",
      "source": [
        "{\"ID\":\"asset6\",\"color\":\"white\",\"size\":15,\"owner\":\"Christopher\",\"appraisedValue\":800}"
      ],
      "metadata": {
        "id": "IxR6KO-Tnkix"
      },
      "execution_count": null,
      "outputs": []
    },
    {
      "cell_type": "markdown",
      "source": [
        "Now we bring the network down "
      ],
      "metadata": {
        "id": "KAMLDl44nnWC"
      }
    },
    {
      "cell_type": "code",
      "source": [
        "./network.sh down"
      ],
      "metadata": {
        "id": "1oxYgB4WnqHK"
      },
      "execution_count": null,
      "outputs": []
    },
    {
      "cell_type": "markdown",
      "source": [
        "To bring up the network with Certificate Authorities.  Deploying CAs also allows us to enroll client identities with the Fabric SDKs and create a certificate and private key for your applications."
      ],
      "metadata": {
        "id": "nGrazaCRnsSc"
      }
    },
    {
      "cell_type": "code",
      "source": [
        "./network.sh up -ca"
      ],
      "metadata": {
        "id": "zhGYjPgDn6Tt"
      },
      "execution_count": null,
      "outputs": []
    },
    {
      "cell_type": "markdown",
      "source": [
        "Bringing up the network with CAs adds the following to the network"
      ],
      "metadata": {
        "id": "1opH1I9ZoZwn"
      }
    },
    {
      "cell_type": "code",
      "source": [
        "##########################################################\n",
        "##### Generate certificates using Fabric CA's ############\n",
        "##########################################################\n",
        "Creating network \"net_default\" with the default driver\n",
        "Creating ca_org2    ... done\n",
        "Creating ca_org1    ... done\n",
        "Creating ca_orderer ... done"
      ],
      "metadata": {
        "id": "SwtsxYTYof2a"
      },
      "execution_count": null,
      "outputs": []
    }
  ]
}